{
 "cells": [
  {
   "cell_type": "code",
   "execution_count": null,
   "metadata": {
    "ExecuteTime": {
     "end_time": "2018-08-19T17:04:19.017762Z",
     "start_time": "2018-08-19T17:04:19.012081Z"
    }
   },
   "outputs": [],
   "source": [
    "%matplotlib inline\n",
    "\n",
    "import json, os\n",
    "import numpy as np\n",
    "import subprocess as spc\n",
    "\n",
    "import matplotlib.pyplot as plt\n",
    "from mpl_toolkits.mplot3d import Axes3D\n",
    "\n",
    "import ipywidgets as widgets\n",
    "from ipywidgets import interact\n",
    "\n",
    "from water_automata import ulti_1_step,ulti_2_step"
   ]
  },
  {
   "cell_type": "code",
   "execution_count": null,
   "metadata": {
    "ExecuteTime": {
     "end_time": "2018-08-19T16:14:42.320774Z",
     "start_time": "2018-08-19T16:14:41.735961Z"
    }
   },
   "outputs": [],
   "source": [
    "from plotly import graph_objs as plgo"
   ]
  },
  {
   "cell_type": "markdown",
   "metadata": {},
   "source": [
    "---"
   ]
  },
  {
   "cell_type": "code",
   "execution_count": null,
   "metadata": {
    "ExecuteTime": {
     "end_time": "2018-08-19T16:19:21.271354Z",
     "start_time": "2018-08-19T16:19:21.267676Z"
    }
   },
   "outputs": [],
   "source": [
    "### 1\n",
    "SIZE = 100\n",
    "TIME = 1000\n",
    "DELTA_T = 0.001\n",
    "HH = 20/SIZE\n",
    "\n",
    "GG = 9.8\n",
    "SPEED = 1.0"
   ]
  },
  {
   "cell_type": "code",
   "execution_count": null,
   "metadata": {
    "ExecuteTime": {
     "end_time": "2018-08-19T16:19:21.595060Z",
     "start_time": "2018-08-19T16:19:21.529555Z"
    }
   },
   "outputs": [],
   "source": [
    "# Initial state:\n",
    "water1 = np.ones((TIME+1, SIZE, SIZE))*2\n",
    "\n",
    "xs1, ys1 = np.meshgrid(*([np.linspace(0, SIZE*HH, 2*SIZE+1)[1:-1:2]])*2)\n",
    "gaussian1 = np.exp( -((xs1-SIZE*HH/4)**2 + (ys1-SIZE*HH/4)**2) )\n",
    "\n",
    "water1[0,:,:] += gaussian1*4\n",
    "\n",
    "mo_x = np.zeros((TIME+1, SIZE, SIZE))\n",
    "mo_y = np.zeros((TIME+1, SIZE, SIZE))"
   ]
  },
  {
   "cell_type": "code",
   "execution_count": null,
   "metadata": {
    "ExecuteTime": {
     "end_time": "2018-08-19T16:19:25.199466Z",
     "start_time": "2018-08-19T16:19:22.351379Z"
    }
   },
   "outputs": [],
   "source": [
    "# Iterate:\n",
    "for t in range(TIME):\n",
    "    water1[t+1],mo_x[t+1],mo_y[t+1] = ulti_2_step(water1[t],mo_x[t],mo_y[t],\n",
    "        d_t=DELTA_T,d_x=HH,gg=GG,vv=SPEED)"
   ]
  },
  {
   "cell_type": "markdown",
   "metadata": {},
   "source": [
    "---"
   ]
  },
  {
   "cell_type": "code",
   "execution_count": null,
   "metadata": {
    "ExecuteTime": {
     "end_time": "2018-08-19T16:19:29.625299Z",
     "start_time": "2018-08-19T16:19:29.621762Z"
    }
   },
   "outputs": [],
   "source": [
    "### 2\n",
    "SIZE = 50\n",
    "TIME = 1000\n",
    "DELTA_T = 0.001\n",
    "HH = 20/SIZE\n",
    "\n",
    "GG = 9.8\n",
    "SPEED = 1.0"
   ]
  },
  {
   "cell_type": "code",
   "execution_count": null,
   "metadata": {
    "ExecuteTime": {
     "end_time": "2018-08-19T16:19:30.673009Z",
     "start_time": "2018-08-19T16:19:30.647844Z"
    }
   },
   "outputs": [],
   "source": [
    "# Initial state 2:\n",
    "water2 = np.ones((TIME+1, SIZE, SIZE))*2\n",
    "\n",
    "xs2, ys2 = np.meshgrid(*([np.linspace(0, SIZE*HH, 2*SIZE+1)[1:-1:2]])*2)\n",
    "gaussian2 = np.exp( -((xs2-SIZE*HH/4)**2 + (ys2-SIZE*HH/4)**2) )\n",
    "\n",
    "water2[0,:,:] += gaussian2*4\n",
    "\n",
    "mo_x = np.zeros((TIME+1, SIZE, SIZE))\n",
    "mo_y = np.zeros((TIME+1, SIZE, SIZE))"
   ]
  },
  {
   "cell_type": "code",
   "execution_count": null,
   "metadata": {
    "ExecuteTime": {
     "end_time": "2018-08-19T16:19:35.159629Z",
     "start_time": "2018-08-19T16:19:34.356896Z"
    }
   },
   "outputs": [],
   "source": [
    "# Iterate 2:\n",
    "for t in range(TIME):\n",
    "    water2[t+1],mo_x[t+1],mo_y[t+1] = ulti_2_step(water2[t],mo_x[t],mo_y[t],\n",
    "        d_t=DELTA_T,d_x=HH,gg=GG,vv=SPEED)"
   ]
  },
  {
   "cell_type": "markdown",
   "metadata": {},
   "source": [
    "---"
   ]
  },
  {
   "cell_type": "code",
   "execution_count": null,
   "metadata": {
    "ExecuteTime": {
     "end_time": "2018-08-19T16:51:42.005253Z",
     "start_time": "2018-08-19T16:51:41.636477Z"
    },
    "scrolled": false
   },
   "outputs": [],
   "source": [
    "fig = plgo.FigureWidget()\n",
    "\n",
    "surf1 = plgo.Surface()\n",
    "surf1.x = xs1\n",
    "surf1.y = ys1\n",
    "surf1.z = water1[0]\n",
    "surf1.colorscale = [\n",
    "    (0, '#4000AA'),\n",
    "    (0.2, '#0000FF'),\n",
    "    (0.4, '#0040FF'),\n",
    "    (0.6, '#0080FF'),\n",
    "    (0.8, '#00BFFF'),\n",
    "    (1, '#00FFFF'),\n",
    "]\n",
    "surf1.scene = 'scene1'\n",
    "surf1.colorbar.showticklabels = False\n",
    "\n",
    "fig.add_trace(surf1)\n",
    "\n",
    "surf2 = plgo.Surface()\n",
    "surf2.x = xs2\n",
    "surf2.y = ys2\n",
    "surf2.z = water2[0]\n",
    "surf2.colorscale = [\n",
    "    (0, '#4000AA'),\n",
    "    (0.2, '#0000FF'),\n",
    "    (0.4, '#0040FF'),\n",
    "    (0.6, '#0080FF'),\n",
    "    (0.8, '#00BFFF'),\n",
    "    (1, '#00FFFF'),\n",
    "]\n",
    "surf2.scene = 'scene2'\n",
    "surf2.colorbar.showticklabels = False\n",
    "\n",
    "fig.add_trace(surf2)\n",
    "\n",
    "fig.layout.scene1.zaxis.range = (0, 6)\n",
    "fig.layout.scene1.aspectmode = 'cube'\n",
    "fig.layout.scene1.domain.x = (0, 0.48)\n",
    "\n",
    "fig.layout.update(scene2=plgo.layout.Scene())\n",
    "fig.layout.scene2.zaxis.range = (0, 6)\n",
    "fig.layout.scene2.aspectmode = 'cube'\n",
    "fig.layout.scene2.domain.x = (0.52, 1)\n",
    "\n",
    "fig.layout.height = 450\n",
    "fig.layout.width = 900\n",
    "\n",
    "slider = widgets.IntSlider(**{\n",
    "    'min': 0,\n",
    "    'value': 0,\n",
    "    'max': TIME,\n",
    "    'step': 10\n",
    "})\n",
    "\n",
    "def link1(scene, camera, *args):\n",
    "    with fig.batch_update():\n",
    "        fig.layout.scene2.camera.update({\n",
    "            'center': camera.center,\n",
    "            'eye': camera.eye,\n",
    "            'up': camera.up,\n",
    "        })\n",
    "        \n",
    "def link2(scene, camera, *args):\n",
    "    with fig.batch_update():\n",
    "        fig.layout.scene1.camera.update({\n",
    "            'center': camera.center,\n",
    "            'eye': camera.eye,\n",
    "            'up': camera.up,\n",
    "        })\n",
    "    \n",
    "fig.layout.scene1.on_change(link1, 'camera')\n",
    "fig.layout.scene2.on_change(link2, 'camera')\n",
    "\n",
    "def move_water(change):\n",
    "    with fig.batch_animate():\n",
    "        fig.data[0].z = water1[change['new']]\n",
    "        fig.data[1].z = water2[change['new']]\n",
    "\n",
    "slider.observe(move_water, names='value')\n",
    "\n",
    "widgets.VBox([slider, fig])"
   ]
  },
  {
   "cell_type": "code",
   "execution_count": null,
   "metadata": {},
   "outputs": [],
   "source": []
  },
  {
   "cell_type": "code",
   "execution_count": null,
   "metadata": {},
   "outputs": [],
   "source": []
  }
 ],
 "metadata": {
  "kernelspec": {
   "display_name": "Python 3",
   "language": "python",
   "name": "python3"
  },
  "language_info": {
   "codemirror_mode": {
    "name": "ipython",
    "version": 3
   },
   "file_extension": ".py",
   "mimetype": "text/x-python",
   "name": "python",
   "nbconvert_exporter": "python",
   "pygments_lexer": "ipython3",
   "version": "3.6.6"
  }
 },
 "nbformat": 4,
 "nbformat_minor": 2
}
