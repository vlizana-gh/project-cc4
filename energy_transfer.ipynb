{
 "cells": [
  {
   "cell_type": "code",
   "execution_count": null,
   "metadata": {},
   "outputs": [],
   "source": [
    "%matplotlib inline\n",
    "\n",
    "import numpy as np\n",
    "\n",
    "import matplotlib.pyplot as plt\n",
    "from mpl_toolkits.mplot3d import Axes3D\n",
    "\n",
    "import ipywidgets as widgets\n",
    "from ipywidgets import interact\n",
    "\n",
    "from water_automata import energy_transfer_step"
   ]
  },
  {
   "cell_type": "code",
   "execution_count": null,
   "metadata": {},
   "outputs": [],
   "source": [
    "SIZE = (40,40)\n",
    "TIME = 2000\n",
    "DELTA_T = 0.02\n",
    "GG = 9.8\n",
    "HH = 1.0\n",
    "NN = 0.03\n",
    "PP = 997\n",
    "WATRANSF = 0.2"
   ]
  },
  {
   "cell_type": "code",
   "execution_count": null,
   "metadata": {},
   "outputs": [],
   "source": [
    "# Test water automata: COLUMN\n",
    "\n",
    "# Initial state:\n",
    "terrain = np.zeros(SIZE)\n",
    "water = np.ones((TIME+1,*SIZE))*0.5\n",
    "water[0,5:15,5:15] += 9\n",
    "energy = np.zeros((TIME+1,*SIZE,4))\n",
    "# Iterate:\n",
    "for t in range(TIME):\n",
    "    water[t+1],energy[t+1] = energy_transfer_step(water[t],energy[t],terrain,\n",
    "        delta_t=DELTA_T,gg=GG,nn=NN,hh=HH,pp=PP,watransf=WATRANSF)"
   ]
  },
  {
   "cell_type": "code",
   "execution_count": null,
   "metadata": {},
   "outputs": [],
   "source": [
    "# Test water automata: WAVES\n",
    "\n",
    "# Initial state:\n",
    "terrain = np.zeros(SIZE)\n",
    "water = np.ones((TIME+1,*SIZE))*0.5\n",
    "water[0,5:10,:] += 3\n",
    "water[0,-10:-5,:] += 3\n",
    "energy = np.zeros((TIME+1,*SIZE,4))\n",
    "# Iterate:\n",
    "for t in range(TIME):\n",
    "    water[t+1],energy[t+1] = energy_transfer_step(water[t],energy[t],terrain,\n",
    "        delta_t=DELTA_T,gg=GG,nn=NN,hh=HH,pp=PP,watransf=WATRANSF)"
   ]
  },
  {
   "cell_type": "code",
   "execution_count": null,
   "metadata": {},
   "outputs": [],
   "source": [
    "# Test water automata: WALL\n",
    "\n",
    "# Initial state:\n",
    "terrain = np.zeros(SIZE)\n",
    "water = np.ones((TIME+1,*SIZE))*0.5\n",
    "water[0,-10:-5,:] += 8\n",
    "terrain[-1,:] += 9\n",
    "water[0,-1,:] = 0\n",
    "energy = np.zeros((TIME+1,*SIZE,4))\n",
    "# Iterate:\n",
    "for t in range(TIME):\n",
    "    water[t+1],energy[t+1] = energy_transfer_step(water[t],energy[t],terrain,\n",
    "        delta_t=DELTA_T,gg=GG,nn=NN,hh=HH,pp=PP,watransf=WATRANSF)"
   ]
  },
  {
   "cell_type": "code",
   "execution_count": null,
   "metadata": {},
   "outputs": [],
   "source": [
    "# Test water automata: COLUMN AND POST\n",
    "\n",
    "# Initial state:\n",
    "terrain = np.zeros(SIZE)\n",
    "water = np.ones((TIME+1,*SIZE))*0.5\n",
    "water[0,5:15,5:15] += 9\n",
    "terrain[20:25,20:25] = 9\n",
    "water[20:25,20:25] = 0\n",
    "energy = np.zeros((TIME+1,*SIZE,4))\n",
    "# Iterate:\n",
    "for t in range(TIME):\n",
    "    water[t+1],energy[t+1] = energy_transfer_step(water[t],energy[t],terrain,\n",
    "        delta_t=DELTA_T,gg=GG,nn=NN,hh=HH,pp=PP,watransf=WATRANSF)"
   ]
  },
  {
   "cell_type": "code",
   "execution_count": null,
   "metadata": {},
   "outputs": [],
   "source": [
    "def draw_step(t):\n",
    "    TOP = 10\n",
    "    MTOP = 500000\n",
    "    #\n",
    "    ys,xs = np.mgrid[0:SIZE[0],0:SIZE[1]]\n",
    "    xs = (xs+0.5)*HH\n",
    "    ys = (ys+0.5)*HH\n",
    "    cxs = energy[t,:,:,0] - energy[t,:,:,1]\n",
    "    cys = energy[t,:,:,2] - energy[t,:,:,3]\n",
    "    fig = plt.figure(1,figsize=(12,6))\n",
    "    #\n",
    "    ax = fig.add_subplot(121,projection='3d')\n",
    "    ax.plot_surface(xs,ys,terrain,color=\"brown\")\n",
    "    watsurf = terrain+water[t]\n",
    "    ax.plot_surface(xs,ys,watsurf,color=\"cyan\")\n",
    "    ax.set_zlim3d(0,TOP)\n",
    "    #\n",
    "    plt.subplot(122)\n",
    "    plt.imshow(water[t],origin='lower',extent=(0,SIZE[1],0,SIZE[0]),vmin=0,vmax=TOP/4)\n",
    "    plt.quiver(xs,ys,cxs,cys,width=0.005,scale=MTOP)\n",
    "    plt.xlim(0,SIZE[1])\n",
    "    plt.ylim(0,SIZE[0])\n",
    "    plt.show()\n",
    "\n",
    "interact(draw_step,t=widgets.IntSlider(min=0,max=TIME,continuous_update=False,step=20));"
   ]
  },
  {
   "cell_type": "code",
   "execution_count": null,
   "metadata": {},
   "outputs": [],
   "source": []
  }
 ],
 "metadata": {
  "kernelspec": {
   "display_name": "Python 3",
   "language": "python",
   "name": "python3"
  },
  "language_info": {
   "codemirror_mode": {
    "name": "ipython",
    "version": 3
   },
   "file_extension": ".py",
   "mimetype": "text/x-python",
   "name": "python",
   "nbconvert_exporter": "python",
   "pygments_lexer": "ipython3",
   "version": "3.6.5"
  }
 },
 "nbformat": 4,
 "nbformat_minor": 2
}
