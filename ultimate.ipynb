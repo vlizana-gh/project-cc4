{
 "cells": [
  {
   "cell_type": "code",
   "execution_count": null,
   "metadata": {},
   "outputs": [],
   "source": [
    "%matplotlib inline\n",
    "\n",
    "import numpy as np\n",
    "\n",
    "import matplotlib.pyplot as plt\n",
    "from mpl_toolkits.mplot3d import Axes3D\n",
    "\n",
    "import ipywidgets as widgets\n",
    "from ipywidgets import interact\n",
    "\n",
    "from water_automata import ulti_step"
   ]
  },
  {
   "cell_type": "code",
   "execution_count": null,
   "metadata": {},
   "outputs": [],
   "source": [
    "SIZE = (20,20)\n",
    "TIME = 4000\n",
    "DELTA_T = 0.001\n",
    "HH = 0.5\n",
    "GG = 9.8\n",
    "SPEED = 10.0"
   ]
  },
  {
   "cell_type": "code",
   "execution_count": null,
   "metadata": {},
   "outputs": [],
   "source": [
    "# Test water automata: COLUMN\n",
    "\n",
    "# Initial state:\n",
    "water = np.ones((TIME+1,*SIZE))*2\n",
    "#water[0,4:9,4:9] = 9\n",
    "#water[0,4:9,4:9] = 9\n",
    "water[0,4:10,4:10] = 8\n",
    "water[0,4:10,4:10] = 8\n",
    "mo_x = np.zeros((TIME+1,*SIZE))\n",
    "mo_y = np.zeros((TIME+1,*SIZE))"
   ]
  },
  {
   "cell_type": "code",
   "execution_count": null,
   "metadata": {},
   "outputs": [],
   "source": [
    "# Iterate:\n",
    "for t in range(TIME):\n",
    "    water[t+1],mo_x[t+1],mo_y[t+1] = ulti_step(\n",
    "        water[t],mo_x[t],mo_y[t],\n",
    "        d_t=DELTA_T,d_x=HH,gg=GG,vv=SPEED)"
   ]
  },
  {
   "cell_type": "code",
   "execution_count": null,
   "metadata": {},
   "outputs": [],
   "source": [
    "def draw_step(t):\n",
    "    TOP = 8\n",
    "    MTOP = 100\n",
    "    #\n",
    "    ys,xs = np.mgrid[0:SIZE[0],0:SIZE[1]]\n",
    "    xs = (xs+0.5)*HH\n",
    "    ys = (ys+0.5)*HH\n",
    "    cxs = mo_x[t]\n",
    "    cys = mo_y[t]\n",
    "    fig = plt.figure(1,figsize=(12,6))\n",
    "    #\n",
    "    ax = fig.add_subplot(121,projection='3d')\n",
    "    ax.plot_surface(xs,ys,water[t],color=\"brown\")\n",
    "    ax.plot_surface(xs,ys,water[t],color=\"cyan\")\n",
    "    ax.set_zlim3d(0,TOP)\n",
    "    #\n",
    "    plt.subplot(122)\n",
    "    plt.imshow(water[t],origin='lower',extent=(0,SIZE[1]*HH,0,SIZE[0]*HH),vmin=0,vmax=TOP/2)\n",
    "    plt.quiver(xs,ys,cxs,cys,width=0.005,scale=MTOP)\n",
    "    plt.xlim(0,SIZE[1]*HH)\n",
    "    plt.ylim(0,SIZE[0]*HH)\n",
    "    plt.show()\n",
    "\n",
    "interact(draw_step,t=widgets.IntSlider(min=0,max=TIME,continuous_update=False,step=10));"
   ]
  },
  {
   "cell_type": "code",
   "execution_count": null,
   "metadata": {},
   "outputs": [],
   "source": []
  },
  {
   "cell_type": "code",
   "execution_count": null,
   "metadata": {},
   "outputs": [],
   "source": []
  }
 ],
 "metadata": {
  "kernelspec": {
   "display_name": "Python 3",
   "language": "python",
   "name": "python3"
  },
  "language_info": {
   "codemirror_mode": {
    "name": "ipython",
    "version": 3
   },
   "file_extension": ".py",
   "mimetype": "text/x-python",
   "name": "python",
   "nbconvert_exporter": "python",
   "pygments_lexer": "ipython3",
   "version": "3.6.5"
  }
 },
 "nbformat": 4,
 "nbformat_minor": 2
}
