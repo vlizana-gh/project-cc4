{
 "cells": [
  {
   "cell_type": "code",
   "execution_count": null,
   "metadata": {},
   "outputs": [],
   "source": [
    "%matplotlib inline\n",
    "\n",
    "import numpy as np\n",
    "\n",
    "import matplotlib.pyplot as plt\n",
    "from mpl_toolkits.mplot3d import Axes3D\n",
    "\n",
    "import ipywidgets as widgets\n",
    "from ipywidgets import interact\n",
    "\n",
    "from water_automata import ulti_1_step,ulti_2_step"
   ]
  },
  {
   "cell_type": "code",
   "execution_count": null,
   "metadata": {},
   "outputs": [],
   "source": [
    "def gaussian(siz):\n",
    "    xs = np.array(np.arange(siz)-(siz-1.0)/2)*4.0/siz\n",
    "    mlt = np.array([(1.0/np.pi**0.5)*np.exp(-0.5*xs**2)]*siz)\n",
    "    gs = mlt.T*mlt\n",
    "    return gs"
   ]
  },
  {
   "cell_type": "code",
   "execution_count": null,
   "metadata": {},
   "outputs": [],
   "source": [
    "SIZE = (20,20)\n",
    "TIME = 4000\n",
    "DELTA_T = 0.01\n",
    "HH = 1.0\n",
    "\n",
    "GG = 9.8\n",
    "SPEED = 1.0"
   ]
  },
  {
   "cell_type": "code",
   "execution_count": null,
   "metadata": {},
   "outputs": [],
   "source": [
    "# Test water automata: COLUMN\n",
    "\n",
    "# Initial state:\n",
    "water = np.ones((TIME+1,*SIZE))*2\n",
    "\n",
    "gssize = 6\n",
    "water[0,4:4+gssize,4:4+gssize] += gaussian(gssize)*20\n",
    "\n",
    "\n",
    "mo_x = np.zeros((TIME+1,*SIZE))\n",
    "mo_y = np.zeros((TIME+1,*SIZE))"
   ]
  },
  {
   "cell_type": "code",
   "execution_count": null,
   "metadata": {},
   "outputs": [],
   "source": [
    "# Iterate:\n",
    "for t in range(TIME):\n",
    "    water[t+1],mo_x[t+1],mo_y[t+1] = ulti_2_step(water[t],mo_x[t],mo_y[t],\n",
    "        d_t=DELTA_T,d_x=HH,gg=GG,vv=SPEED)"
   ]
  },
  {
   "cell_type": "code",
   "execution_count": null,
   "metadata": {},
   "outputs": [],
   "source": [
    "def draw_step(t):\n",
    "    TOP = 8\n",
    "    MTOP = 100\n",
    "    #\n",
    "    ys,xs = np.mgrid[0:SIZE[0],0:SIZE[1]]\n",
    "    xs = (xs+0.5)*HH\n",
    "    ys = (ys+0.5)*HH\n",
    "    cxs = mo_x[t]\n",
    "    cys = mo_y[t]\n",
    "    fig = plt.figure(1,figsize=(12,18))\n",
    "    #\n",
    "    ax = fig.add_subplot(321,projection='3d')\n",
    "    ax.plot_surface(xs,ys,water[t],color=\"brown\")\n",
    "    ax.plot_surface(xs,ys,water[t],color=\"cyan\")\n",
    "    ax.set_zlim3d(0,TOP)\n",
    "    #\n",
    "    plt.subplot(322)\n",
    "    plt.imshow(water[t],origin='lower',extent=(0,SIZE[1]*HH,0,SIZE[0]*HH),vmin=1,vmax=1+(TOP-1)/4)\n",
    "    plt.quiver(xs,ys,cxs,cys,width=0.005,scale=MTOP)\n",
    "    plt.xlim(0,SIZE[1]*HH)\n",
    "    plt.ylim(0,SIZE[0]*HH)\n",
    "    #\n",
    "    plt.show()\n",
    "\n",
    "interact(draw_step,t=widgets.IntSlider(min=0,max=TIME,continuous_update=False,step=1));"
   ]
  },
  {
   "cell_type": "code",
   "execution_count": null,
   "metadata": {},
   "outputs": [],
   "source": []
  },
  {
   "cell_type": "code",
   "execution_count": null,
   "metadata": {},
   "outputs": [],
   "source": []
  }
 ],
 "metadata": {
  "kernelspec": {
   "display_name": "Python 3",
   "language": "python",
   "name": "python3"
  },
  "language_info": {
   "codemirror_mode": {
    "name": "ipython",
    "version": 3
   },
   "file_extension": ".py",
   "mimetype": "text/x-python",
   "name": "python",
   "nbconvert_exporter": "python",
   "pygments_lexer": "ipython3",
   "version": "3.6.5"
  }
 },
 "nbformat": 4,
 "nbformat_minor": 2
}
