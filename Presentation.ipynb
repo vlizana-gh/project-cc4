{
 "cells": [
  {
   "cell_type": "code",
   "execution_count": null,
   "metadata": {
    "slideshow": {
     "slide_type": "skip"
    }
   },
   "outputs": [],
   "source": [
    "def log_progress(sequence, every=None, size=None, name='Items'):\n",
    "    is_iterator = False\n",
    "    if size is None:\n",
    "        try:\n",
    "            size = len(sequence)\n",
    "        except TypeError:\n",
    "            is_iterator = True\n",
    "    if size is not None:\n",
    "        if every is None:\n",
    "            if size <= 200:\n",
    "                every = 1\n",
    "            else:\n",
    "                every = int(size / 200)     # every 0.5%\n",
    "    else:\n",
    "        assert every is not None, 'sequence is iterator, set every'\n",
    "\n",
    "    if is_iterator:\n",
    "        progress = IntProgress(min=0, max=1, value=1)\n",
    "        progress.bar_style = 'info'\n",
    "    else:\n",
    "        progress = IntProgress(min=0, max=size, value=0)\n",
    "    label = HTML()\n",
    "    box = VBox(children=[label, progress])\n",
    "    display(box)\n",
    "\n",
    "    index = 0\n",
    "    try:\n",
    "        for index, record in enumerate(sequence, 1):\n",
    "            if index == 1 or index % every == 0:\n",
    "                if is_iterator:\n",
    "                    label.value = '{name}: {index} / ?'.format(\n",
    "                        name=name,\n",
    "                        index=index\n",
    "                    )\n",
    "                else:\n",
    "                    progress.value = index\n",
    "                    label.value = u'{name}: {index} / {size}'.format(\n",
    "                        name=name,\n",
    "                        index=index,\n",
    "                        size=size\n",
    "                    )\n",
    "            yield record\n",
    "    except:\n",
    "        progress.bar_style = 'danger'\n",
    "        raise\n",
    "    else:\n",
    "        progress.bar_style = 'success'\n",
    "        progress.value = index\n",
    "        label.value = \"{name}: {index}\".format(\n",
    "            name=name,\n",
    "            index=str(index or '?')\n",
    "        )"
   ]
  },
  {
   "cell_type": "code",
   "execution_count": null,
   "metadata": {
    "slideshow": {
     "slide_type": "skip"
    }
   },
   "outputs": [],
   "source": [
    "import numpy as np\n",
    "import noise\n",
    "\n",
    "from matplotlib import pyplot as plt\n",
    "from matplotlib import colors as col\n",
    "from mpl_toolkits.mplot3d import Axes3D\n",
    "\n",
    "from ipywidgets import IntProgress, HTML, VBox\n",
    "from IPython.display import display\n",
    "import ipywidgets as wdg\n",
    "\n",
    "import warnings\n",
    "warnings.filterwarnings(\"ignore\")\n",
    "\n",
    "from plotly import graph_objs as plgo\n",
    "from plotly import offline as ploff\n",
    "ploff.init_notebook_mode(connected=False)"
   ]
  },
  {
   "cell_type": "code",
   "execution_count": null,
   "metadata": {
    "slideshow": {
     "slide_type": "skip"
    }
   },
   "outputs": [],
   "source": [
    "def plot(x, y, land, water, title):\n",
    "#     mask = ~water.astype(bool)\n",
    "    mask = water < 0.00001\n",
    "    layer = land + water\n",
    "    layer[mask] = None\n",
    "    ploff.iplot(\n",
    "        plgo.Figure({\n",
    "            'data': [\n",
    "                plgo.Surface({\n",
    "                    'name': 'land',\n",
    "                    'x': x,\n",
    "                    'y': y,\n",
    "                    'z': land,\n",
    "                    'colorscale': [(0.0, '#F9EBEA'), (1.0, '#641E16')],\n",
    "                }),\n",
    "                plgo.Surface({\n",
    "                    'name': 'water',\n",
    "                    'x': x,\n",
    "                    'y': y,\n",
    "                    'z': layer,\n",
    "                    'colorscale': [(0.0, '#154360'), (1.0, '#85C1E9')],\n",
    "                    'showscale': False,\n",
    "                })\n",
    "            ],\n",
    "            'layout': plgo.Layout({\n",
    "                'title': title,\n",
    "                'width': 800,\n",
    "                'height': 800,\n",
    "                'scene': plgo.Scene({\n",
    "                    'zaxis': plgo.ZAxis({\n",
    "                        'range': [-1, 1.5]\n",
    "                    })\n",
    "                })\n",
    "            }),\n",
    "        })\n",
    "    )"
   ]
  },
  {
   "cell_type": "code",
   "execution_count": null,
   "metadata": {
    "slideshow": {
     "slide_type": "skip"
    }
   },
   "outputs": [],
   "source": [
    "def upper_plot(x, y, land, water, Timestep):\n",
    "    mask = water[Timestep] < 0.00001\n",
    "    layer = land + water[Timestep]\n",
    "    layer[mask] = None\n",
    "    land_cm = col.LinearSegmentedColormap.from_list(\n",
    "        'land',\n",
    "        [(110/255, 44/255, 0), (246/255, 221/255, 204/255)][::-1]\n",
    "    )\n",
    "    water_cm = col.LinearSegmentedColormap.from_list(\n",
    "        'water',\n",
    "        [(27/255, 79/255, 144/255), (214/255, 234/255, 248/255)]\n",
    "    )\n",
    "    fig = plt.figure(figsize=(16,8))\n",
    "    ax1 = fig.add_subplot(122)\n",
    "    ax1.imshow(land, cmap=land_cm, vmin=np.min(land), vmax=np.max(land))\n",
    "    ax1.imshow(layer, cmap=water_cm, vmin=np.min(land), vmax=np.max(land))\n",
    "    ax2 = fig.add_subplot(121, projection='3d')\n",
    "    ax2.plot_surface(x, y, land, cmap=land_cm)\n",
    "    ax2.plot_surface(x, y, layer, cmap=water_cm)\n",
    "    ax2.set_zlim(-1, 1.5)\n",
    "    plt.show()"
   ]
  },
  {
   "cell_type": "code",
   "execution_count": null,
   "metadata": {
    "slideshow": {
     "slide_type": "skip"
    }
   },
   "outputs": [],
   "source": [
    "np.random.seed(42)"
   ]
  },
  {
   "cell_type": "markdown",
   "metadata": {
    "slideshow": {
     "slide_type": "slide"
    }
   },
   "source": [
    "# Flooding Model\n",
    "---"
   ]
  },
  {
   "cell_type": "markdown",
   "metadata": {
    "slideshow": {
     "slide_type": "fragment"
    }
   },
   "source": [
    "by Francisco Casas & Vicente Lizana"
   ]
  },
  {
   "cell_type": "markdown",
   "metadata": {
    "slideshow": {
     "slide_type": "slide"
    }
   },
   "source": [
    "## Terrain Generation\n",
    "---"
   ]
  },
  {
   "cell_type": "code",
   "execution_count": null,
   "metadata": {
    "slideshow": {
     "slide_type": "fragment"
    }
   },
   "outputs": [],
   "source": [
    "base = np.linspace(0, 5, 100)\n",
    "x, y = np.meshgrid(base, base)\n",
    "# vectoriation of perlin noise\n",
    "# final_func = np.vectorize(lambda x, y: noise.pnoise2(x, y, octaves=4))\n",
    "# land = final_func(x, y)\n",
    "land = np.zeros(x.shape)"
   ]
  },
  {
   "cell_type": "code",
   "execution_count": null,
   "metadata": {
    "slideshow": {
     "slide_type": "subslide"
    }
   },
   "outputs": [],
   "source": [
    "plot(x, y, land, np.zeros(land.shape), 'Terrain')"
   ]
  },
  {
   "cell_type": "markdown",
   "metadata": {
    "slideshow": {
     "slide_type": "slide"
    }
   },
   "source": [
    "## First Model\n",
    "### Simple automata\n",
    "---"
   ]
  },
  {
   "cell_type": "markdown",
   "metadata": {
    "slideshow": {
     "slide_type": "fragment"
    }
   },
   "source": [
    "The water transference between two adjacent cells $i$ and $j$ is: $$ Q_{ij} = \\begin{cases} -\\alpha \\min(w_i, (t_i + w_i) - (t_j + w_j)), \\quad & t_i + w_i \\geqslant t_j + w_j\\\\ +\\alpha \\min(w_j, (t_j + w_j) - (t_i + w_i)), \\quad & t_i + w_i < t_j + w_j \\end{cases} $$\n",
    "\n",
    "where $\\alpha$ is a constant in $[0,0.25]$."
   ]
  },
  {
   "cell_type": "code",
   "execution_count": null,
   "metadata": {
    "slideshow": {
     "slide_type": "subslide"
    }
   },
   "outputs": [],
   "source": [
    "def simple_automata_step(terra,water,alpha):\n",
    "    assert(terra.shape==water.shape)\n",
    "    levels = terra+water\n",
    "    # Get the level transfer:\n",
    "    transfer_x = levels[:,:-1]-levels[:,1:]\n",
    "    transfer_x = np.minimum(water[:,:-1],transfer_x)\n",
    "    transfer_x = np.maximum(-water[:,1:],transfer_x)\n",
    "    #\n",
    "    transfer_y = levels[:-1,:]-levels[1:,:]\n",
    "    transfer_y = np.minimum(water[:-1,:],transfer_y)\n",
    "    transfer_y = np.maximum(-water[1:,:],transfer_y)\n",
    "    # Update water levels:\n",
    "    nwater = water.copy()\n",
    "    nwater[:,:-1] -= transfer_x*alpha\n",
    "    nwater[:,1:]  += transfer_x*alpha\n",
    "    nwater[:-1,:] -= transfer_y*alpha\n",
    "    nwater[1:,:]  += transfer_y*alpha\n",
    "    return nwater"
   ]
  },
  {
   "cell_type": "code",
   "execution_count": null,
   "metadata": {
    "slideshow": {
     "slide_type": "subslide"
    }
   },
   "outputs": [],
   "source": [
    "water = np.zeros(land.shape)\n",
    "water[45:56,45:56] = 0.5 - land[45:56,45:56]"
   ]
  },
  {
   "cell_type": "code",
   "execution_count": null,
   "metadata": {
    "slideshow": {
     "slide_type": "fragment"
    }
   },
   "outputs": [],
   "source": [
    "size = 1000\n",
    "alpha = 0.2\n",
    "\n",
    "w = np.zeros((size, *land.shape))\n",
    "w[0,:,:] = simple_automata_step(land, water, alpha)\n",
    "for i in log_progress(range(size-1), every=1, name='Timesteps'):\n",
    "    w[i+1,:,:] = simple_automata_step(land, w[i,:,:], alpha)"
   ]
  },
  {
   "cell_type": "code",
   "execution_count": null,
   "metadata": {
    "slideshow": {
     "slide_type": "subslide"
    }
   },
   "outputs": [],
   "source": [
    "play = wdg.Play(\n",
    "#     interval=10,\n",
    "    value=0,\n",
    "    min=0,\n",
    "    max=size-1,\n",
    "    step=1,\n",
    "    description=\"Press play\",\n",
    "    disabled=False\n",
    ")\n",
    "slider = wdg.IntSlider(\n",
    "    min=0,\n",
    "    max=size\n",
    ")\n",
    "wdg.jslink((play, 'value'), (slider, 'value'))\n",
    "flooding = wdg.interactive(upper_plot, Timestep=slider, water=wdg.fixed(w), land=wdg.fixed(land), x=wdg.fixed(x), y=wdg.fixed(y))\n",
    "display(wdg.VBox([play, flooding]))"
   ]
  },
  {
   "cell_type": "markdown",
   "metadata": {
    "slideshow": {
     "slide_type": "slide"
    }
   },
   "source": [
    "<img src=\"moni.png\">"
   ]
  },
  {
   "cell_type": "code",
   "execution_count": null,
   "metadata": {
    "slideshow": {
     "slide_type": "subslide"
    }
   },
   "outputs": [],
   "source": [
    "def weighted_automata_step(terra, water, transf, k=0.00001):\n",
    "    assert(terra.shape==water.shape)\n",
    "    levels = terra+water\n",
    "    levelsb = np.zeros((levels.shape[0]+2,levels.shape[1]+2))\n",
    "    levelsb[1:-1,1:-1] = levels\n",
    "    levelsb[0,:] = levelsb[1,:]\n",
    "    levelsb[-1,:] = levelsb[-2,:]\n",
    "    levelsb[:,0] = levelsb[:,-1]\n",
    "    levelsb[:,-1] = levelsb[:,-2]\n",
    "    # Get water level height difference on each direction\n",
    "    delta_1 = levels-levelsb[2:,1:-1]\n",
    "    delta_1 = np.min([delta_1,water],axis=0)\n",
    "    delta_2 = levels-levelsb[1:-1,:-2]\n",
    "    delta_2 = np.min([delta_2,water],axis=0)\n",
    "    delta_3 = levels-levelsb[:-2,1:-1]\n",
    "    delta_3 = np.min([delta_3,water],axis=0)\n",
    "    delta_4 = levels-levelsb[1:-1,2:]\n",
    "    delta_4 = np.min([delta_4,water],axis=0)\n",
    "    # Filter small and negative discharges\n",
    "    delta_1[delta_1 < k] = 0\n",
    "    delta_2[delta_2 < k] = 0\n",
    "    delta_3[delta_3 < k] = 0\n",
    "    delta_4[delta_4 < k] = 0\n",
    "    # Get the smallest height difference\n",
    "    diffs = np.array([delta_1[:,:], delta_2[:,:], delta_3[:,:], delta_4[:,:]])\n",
    "    diffs[diffs<k] = float('inf')\n",
    "    mindiff = np.min(diffs,axis=0)\n",
    "    # Get the transfer weights\n",
    "    diffs = np.sum([delta_1, delta_2, delta_3, delta_4, mindiff], axis=0)\n",
    "    delta_1 /= diffs\n",
    "    delta_2 /= diffs\n",
    "    delta_3 /= diffs\n",
    "    delta_4 /= diffs\n",
    "    # Transfer flow\n",
    "    nwater = water.copy()\n",
    "    nwater[1:,:] += delta_1[:-1,:]\n",
    "    nwater[:,1:] += delta_2[:,:-1]\n",
    "    nwater[:-1,:] += delta_3[1:,:]\n",
    "    nwater[:,:-1] += delta_4[:,1:]\n",
    "    # Return new water level\n",
    "    return nwater"
   ]
  },
  {
   "cell_type": "code",
   "execution_count": null,
   "metadata": {
    "slideshow": {
     "slide_type": "subslide"
    }
   },
   "outputs": [],
   "source": [
    "water = np.zeros(land.shape)\n",
    "water[45:56,45:56] = 0.5 - land[45:56,45:56]"
   ]
  },
  {
   "cell_type": "code",
   "execution_count": null,
   "metadata": {
    "slideshow": {
     "slide_type": "fragment"
    }
   },
   "outputs": [],
   "source": [
    "size = 1000\n",
    "alpha = 0.2\n",
    "\n",
    "w = np.zeros((size, *land.shape))\n",
    "w[0,:,:] = weighted_automata_step(land, water, alpha)\n",
    "for i in log_progress(range(size-1), every=1, name='Timesteps'):\n",
    "    w[i+1,:,:] = simple_automata_step(land, w[i,:,:], alpha)"
   ]
  },
  {
   "cell_type": "code",
   "execution_count": null,
   "metadata": {
    "slideshow": {
     "slide_type": "subslide"
    }
   },
   "outputs": [],
   "source": [
    "play = wdg.Play(\n",
    "#     interval=10,\n",
    "    value=0,\n",
    "    min=0,\n",
    "    max=size-1,\n",
    "    step=1,\n",
    "    description=\"Press play\",\n",
    "    disabled=False\n",
    ")\n",
    "slider = wdg.IntSlider(\n",
    "    min=0,\n",
    "    max=size\n",
    ")\n",
    "wdg.jslink((play, 'value'), (slider, 'value'))\n",
    "flooding = wdg.interactive(upper_plot, Timestep=slider, water=wdg.fixed(w), land=wdg.fixed(land), x=wdg.fixed(x), y=wdg.fixed(y))\n",
    "display(wdg.VBox([play, flooding]))"
   ]
  }
 ],
 "metadata": {
  "celltoolbar": "Slideshow",
  "kernelspec": {
   "display_name": "Python 3",
   "language": "python",
   "name": "python3"
  },
  "language_info": {
   "codemirror_mode": {
    "name": "ipython",
    "version": 3
   },
   "file_extension": ".py",
   "mimetype": "text/x-python",
   "name": "python",
   "nbconvert_exporter": "python",
   "pygments_lexer": "ipython3",
   "version": "3.6.5"
  }
 },
 "nbformat": 4,
 "nbformat_minor": 2
}
