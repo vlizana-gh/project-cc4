{
 "cells": [
  {
   "cell_type": "code",
   "execution_count": null,
   "metadata": {
    "slideshow": {
     "slide_type": "skip"
    }
   },
   "outputs": [],
   "source": [
    "def log_progress(sequence, every=None, size=None, name='Items'):\n",
    "    is_iterator = False\n",
    "    if size is None:\n",
    "        try:\n",
    "            size = len(sequence)\n",
    "        except TypeError:\n",
    "            is_iterator = True\n",
    "    if size is not None:\n",
    "        if every is None:\n",
    "            if size <= 200:\n",
    "                every = 1\n",
    "            else:\n",
    "                every = int(size / 200)     # every 0.5%\n",
    "    else:\n",
    "        assert every is not None, 'sequence is iterator, set every'\n",
    "\n",
    "    if is_iterator:\n",
    "        progress = IntProgress(min=0, max=1, value=1)\n",
    "        progress.bar_style = 'info'\n",
    "    else:\n",
    "        progress = IntProgress(min=0, max=size, value=0)\n",
    "    label = HTML()\n",
    "    box = VBox(children=[label, progress])\n",
    "    display(box)\n",
    "\n",
    "    index = 0\n",
    "    try:\n",
    "        for index, record in enumerate(sequence, 1):\n",
    "            if index == 1 or index % every == 0:\n",
    "                if is_iterator:\n",
    "                    label.value = '{name}: {index} / ?'.format(\n",
    "                        name=name,\n",
    "                        index=index\n",
    "                    )\n",
    "                else:\n",
    "                    progress.value = index\n",
    "                    label.value = u'{name}: {index} / {size}'.format(\n",
    "                        name=name,\n",
    "                        index=index,\n",
    "                        size=size\n",
    "                    )\n",
    "            yield record\n",
    "    except:\n",
    "        progress.bar_style = 'danger'\n",
    "        raise\n",
    "    else:\n",
    "        progress.bar_style = 'success'\n",
    "        progress.value = index\n",
    "        label.value = \"{name}: {index}\".format(\n",
    "            name=name,\n",
    "            index=str(index or '?')\n",
    "        )"
   ]
  },
  {
   "cell_type": "code",
   "execution_count": null,
   "metadata": {
    "slideshow": {
     "slide_type": "skip"
    }
   },
   "outputs": [],
   "source": [
    "import numpy as np\n",
    "import noise\n",
    "\n",
    "from matplotlib import pyplot as plt\n",
    "from matplotlib import colors as col\n",
    "from mpl_toolkits.mplot3d import Axes3D\n",
    "\n",
    "from ipywidgets import IntProgress, HTML, VBox\n",
    "from IPython.display import display\n",
    "import ipywidgets as wdg\n",
    "\n",
    "import warnings\n",
    "warnings.filterwarnings(\"ignore\")\n",
    "\n",
    "from plotly import graph_objs as plgo\n",
    "from plotly import offline as ploff\n",
    "ploff.init_notebook_mode(connected=False)"
   ]
  },
  {
   "cell_type": "code",
   "execution_count": null,
   "metadata": {
    "slideshow": {
     "slide_type": "skip"
    }
   },
   "outputs": [],
   "source": [
    "def plot(x, y, land, water, title):\n",
    "#     mask = ~water.astype(bool)\n",
    "    mask = water < 0.00001\n",
    "    layer = land + water\n",
    "    layer[mask] = None\n",
    "    ploff.iplot(\n",
    "        plgo.Figure({\n",
    "            'data': [\n",
    "                plgo.Surface({\n",
    "                    'name': 'land',\n",
    "                    'x': x,\n",
    "                    'y': y,\n",
    "                    'z': land,\n",
    "                    'colorscale': [(0.0, '#F9EBEA'), (1.0, '#641E16')],\n",
    "                }),\n",
    "                plgo.Surface({\n",
    "                    'name': 'water',\n",
    "                    'x': x,\n",
    "                    'y': y,\n",
    "                    'z': layer,\n",
    "                    'colorscale': [(0.0, '#154360'), (1.0, '#85C1E9')],\n",
    "                    'showscale': False,\n",
    "                })\n",
    "            ],\n",
    "            'layout': plgo.Layout({\n",
    "                'title': title,\n",
    "                'width': 800,\n",
    "                'height': 800,\n",
    "                'scene': plgo.Scene({\n",
    "                    'zaxis': plgo.ZAxis({\n",
    "                        'range': [-1, 1.5]\n",
    "                    })\n",
    "                })\n",
    "            }),\n",
    "        })\n",
    "    )"
   ]
  },
  {
   "cell_type": "code",
   "execution_count": null,
   "metadata": {
    "slideshow": {
     "slide_type": "skip"
    }
   },
   "outputs": [],
   "source": [
    "def upper_plot(x, y, land, water, Timestep):\n",
    "    mask = water[Timestep] < 0.00001\n",
    "    layer = land + water[Timestep]\n",
    "    layer[mask] = None\n",
    "    land_cm = col.LinearSegmentedColormap.from_list(\n",
    "        'land',\n",
    "        [(110/255, 44/255, 0), (246/255, 221/255, 204/255)][::-1]\n",
    "    )\n",
    "    water_cm = col.LinearSegmentedColormap.from_list(\n",
    "        'water',\n",
    "        [(27/255, 79/255, 144/255), (214/255, 234/255, 248/255)]\n",
    "    )\n",
    "    fig = plt.figure(figsize=(16,8))\n",
    "    ax1 = fig.add_subplot(122)\n",
    "    ax1.imshow(land, cmap=land_cm, vmin=np.min(land), vmax=np.max(land))\n",
    "    ax1.imshow(layer, cmap=water_cm, vmin=np.min(land), vmax=np.max(land))\n",
    "    ax2 = fig.add_subplot(121, projection='3d')\n",
    "    ax2.plot_surface(x, y, land, cmap=land_cm)\n",
    "    ax2.plot_surface(x, y, layer, cmap=water_cm)\n",
    "    ax2.set_zlim(-1, 1.5)\n",
    "    plt.show()"
   ]
  },
  {
   "cell_type": "code",
   "execution_count": null,
   "metadata": {
    "slideshow": {
     "slide_type": "skip"
    }
   },
   "outputs": [],
   "source": [
    "np.random.seed(42)"
   ]
  },
  {
   "cell_type": "markdown",
   "metadata": {
    "slideshow": {
     "slide_type": "slide"
    }
   },
   "source": [
    "# Flooding Model 2\n",
    "---"
   ]
  },
  {
   "cell_type": "markdown",
   "metadata": {
    "slideshow": {
     "slide_type": "fragment"
    }
   },
   "source": [
    "by Francisco Casas & Vicente Lizana"
   ]
  },
  {
   "cell_type": "markdown",
   "metadata": {
    "slideshow": {
     "slide_type": "slide"
    }
   },
   "source": [
    "## Momentum transfer model\n",
    "---"
   ]
  },
  {
   "cell_type": "markdown",
   "metadata": {
    "slideshow": {
     "slide_type": "fragment"
    }
   },
   "source": [
    "Each cell has:\n",
    "* A constant terrain level $t_{ij}$\n",
    "* A water column level, $w_{ij}$\n",
    "* A given momentum $(u_{ij},v_{ij})$: $\\text{volume} \\times \\text{speed}$\n",
    "\n",
    "Between the adjacent pairs of cells two metrics are computed:\n",
    "\n",
    "* The water column difference (that allows discharge):\n",
    "![Contact](figures/delta.png)\n",
    "* The % of the water column over the other's terrain (one for each direction):\n",
    "![Contact](figures/contact.png)"
   ]
  },
  {
   "cell_type": "markdown",
   "metadata": {},
   "source": [
    "Water is transfered by 2 means:\n",
    "* By discharge, due to water column difference.\n",
    "* By its own speed (moment).\n",
    "\n",
    "Applying the following rules:\n",
    "* Of the water on the column difference is discharged each step to the receptor cell ($\\alpha$).\n",
    "* On a discharge, the receptor cell earns moment in the direction of the discharge ($\\gamma$).\n",
    "* Each cell also moves a fraction of its water due moment ($\\beta$), as the water carries the moment, the same fraction of the moment is transfered.\n",
    "    * This effect is multiplied by the column contact %.\n",
    "    * Moment can be lost on the terrain.\n",
    "\n",
    "<!-- No final transfer can be of more than $\\frac{1}{4}$ of the cell's water, for the stability of the model. -->"
   ]
  },
  {
   "cell_type": "code",
   "execution_count": null,
   "metadata": {
    "slideshow": {
     "slide_type": "subslide"
    }
   },
   "outputs": [],
   "source": [
    "def momentum_transfer_automata(mom_x, mom_y, land, water,\n",
    "        alpha, beta=1.0, gamma=0.2, disip=0.1):\n",
    "    assert(land.shape == water.shape)\n",
    "    assert(mom_x.shape == water.shape)\n",
    "    assert(mom_y.shape == water.shape)\n",
    "    levels = land + water\n",
    "\n",
    "    # Get the % of contact of the water column\n",
    "    water_div = water.copy()\n",
    "    water_div[water_div==0] = 1.0\n",
    "    #\n",
    "    contact_e = np.zeros(water.shape)\n",
    "    contact_e[:,:-1] = levels[:,:-1] - land[:,1:]\n",
    "    contact_e = np.minimum(contact_e, water) / water_div\n",
    "    #\n",
    "    contact_w = np.zeros(water.shape)\n",
    "    contact_w[:,1:] = levels[:,1:] - land[:,:-1]\n",
    "    contact_w = np.minimum(contact_w, water) / water_div\n",
    "    #\n",
    "    contact_s = np.zeros(water.shape)\n",
    "    contact_s[:-1,:] = levels[:-1,:] - land[1:,:]\n",
    "    contact_s = np.minimum(contact_s, water) / water_div\n",
    "    #\n",
    "    contact_n = np.zeros(water.shape)\n",
    "    contact_n[1:,:] = levels[1:,:] - land[:-1,:]\n",
    "    contact_n = np.minimum(contact_n, water) / water_div\n",
    "\n",
    "    # Get the water column difference\n",
    "    discharge_x = levels[:,:-1] - levels[:,1:]\n",
    "    discharge_x = np.minimum(water[:,:-1], discharge_x)\n",
    "    discharge_x = np.maximum(-water[:,1:], discharge_x)\n",
    "    #\n",
    "    discharge_y = levels[:-1,:] - levels[1:,:]\n",
    "    discharge_y = np.minimum(water[:-1,:], discharge_y)\n",
    "    discharge_y = np.maximum(-water[1:,:], discharge_y)\n",
    "\n",
    "    # 4 direction momentum:\n",
    "    mom_e = np.maximum(mom_x,0)\n",
    "    mom_w = np.maximum(-mom_x,0)\n",
    "    mom_s = np.maximum(mom_y,0)\n",
    "    mom_n = np.maximum(-mom_y,0)\n",
    "    # Dissipate momentum due earth. #NOTE: Can be upgraded to bouncing!\n",
    "    mom_e *= (1-disip) * (1-contact_e)\n",
    "    mom_w *= (1-disip) * (1-contact_w)\n",
    "    mom_s *= (1-disip) * (1-contact_s)\n",
    "    mom_n *= (1-disip) * (1-contact_n)\n",
    "\n",
    "    # Water movement due momentum:\n",
    "    watert_e = mom_e * contact_e\n",
    "    watert_w = mom_w * contact_w\n",
    "    watert_s = mom_s * contact_s\n",
    "    watert_n = mom_n * contact_n\n",
    "\n",
    "    # Update waters:\n",
    "    delta_x = discharge_x * alpha + watert_e[:,:-1] - watert_w[:,1:]\n",
    "    delta_y = discharge_y * alpha + watert_n[:-1,:] - watert_s[1:,:]\n",
    "    #\n",
    "    nwater = water.copy()\n",
    "    nwater[:,:-1] -= delta_x\n",
    "    nwater[:,1:]  += delta_x\n",
    "    nwater[:-1,:] -= delta_y\n",
    "    nwater[1:,:]  += delta_y\n",
    "\n",
    "    # Momentum transfer\n",
    "    momt_e = mom_e * watert_e / water_div\n",
    "    momt_w = mom_w * watert_w / water_div\n",
    "    momt_s = mom_s * watert_s / water_div\n",
    "    momt_n = mom_n * watert_n / water_div\n",
    "    # Update momentums:\n",
    "    mom_e -= momt_e\n",
    "    mom_e[:,1:] += momt_e[:,:-1]\n",
    "    mom_e[:,1:] += gamma * np.maximum(0, +delta_x)\n",
    "    #\n",
    "    mom_w -= momt_w\n",
    "    mom_w[:,:-1] += momt_w[:,1:]\n",
    "    mom_w[:,:-1] += gamma * np.maximum(0, -delta_x)\n",
    "    #\n",
    "    mom_s -= momt_s\n",
    "    mom_s[1:,:] += momt_s[:-1,:]\n",
    "    mom_s[1:,:] += gamma * np.maximum(0, +delta_y)\n",
    "    #\n",
    "    mom_n -= momt_n\n",
    "    mom_n[:-1,:] += momt_n[1:,:]\n",
    "    mom_n[:-1,:] += gamma * np.maximum(0, -delta_y)\n",
    "    # NOTE: Here we can have anulation:\n",
    "    nmom_x = mom_e - mom_w\n",
    "    nmom_y = mom_s - mom_n\n",
    "\n",
    "    return nmom_x, nmom_y, nwater"
   ]
  },
  {
   "cell_type": "code",
   "execution_count": null,
   "metadata": {
    "slideshow": {
     "slide_type": "fragment"
    }
   },
   "outputs": [],
   "source": [
    "base = np.linspace(0, 5, 100)\n",
    "x, y = np.meshgrid(base, base)\n",
    "# vectoriation of perlin noise\n",
    "# final_func = np.vectorize(lambda x, y: noise.pnoise2(x, y, octaves=4))\n",
    "# land = final_func(x, y)\n",
    "land = np.zeros(x.shape)\n",
    "\n",
    "# plot(x, y, land, np.zeros(land.shape), 'Terrain')"
   ]
  },
  {
   "cell_type": "code",
   "execution_count": null,
   "metadata": {
    "slideshow": {
     "slide_type": "subslide"
    }
   },
   "outputs": [],
   "source": [
    "water = np.zeros(land.shape)\n",
    "water[45:56,45:56] = 1.0 - land[45:56,45:56]"
   ]
  },
  {
   "cell_type": "code",
   "execution_count": null,
   "metadata": {
    "slideshow": {
     "slide_type": "fragment"
    }
   },
   "outputs": [],
   "source": [
    "size = 1000\n",
    "alpha = 0.2\n",
    "gamma = 0.2\n",
    "disip = 0.1\n",
    "\n",
    "w = np.zeros((size, *land.shape))\n",
    "mx = np.zeros((size, *land.shape))\n",
    "my = np.zeros((size, *land.shape))\n",
    "w[0,:,:] = water\n",
    "for i in log_progress(range(0,size-1), every=1, name='Timesteps'):\n",
    "    print(i,np.min(mx[i,:,:]),np.max(mx[i,:,:]))\n",
    "    mx[i+1,:,:],my[i+1,:,:],w[i+1,:,:] = momentum_transfer_automata(\n",
    "            mx[i,:,:],my[i,:,:],land,w[i,:,:],alpha,gamma,disip)"
   ]
  },
  {
   "cell_type": "code",
   "execution_count": null,
   "metadata": {
    "slideshow": {
     "slide_type": "subslide"
    }
   },
   "outputs": [],
   "source": [
    "play = wdg.Play(\n",
    "#     interval=10,\n",
    "    value=0,\n",
    "    min=0,\n",
    "    max=size-1,\n",
    "    step=1,\n",
    "    description=\"Press play\",\n",
    "    disabled=False\n",
    ")\n",
    "slider = wdg.IntSlider(\n",
    "    min=0,\n",
    "    max=size\n",
    ")\n",
    "wdg.jslink((play, 'value'), (slider, 'value'))\n",
    "flooding = wdg.interactive(upper_plot, Timestep=slider, water=wdg.fixed(w), land=wdg.fixed(land), x=wdg.fixed(x), y=wdg.fixed(y))\n",
    "display(wdg.VBox([play, flooding]))"
   ]
  },
  {
   "cell_type": "code",
   "execution_count": null,
   "metadata": {},
   "outputs": [],
   "source": []
  }
 ],
 "metadata": {
  "celltoolbar": "Slideshow",
  "kernelspec": {
   "display_name": "Python 3",
   "language": "python",
   "name": "python3"
  },
  "language_info": {
   "codemirror_mode": {
    "name": "ipython",
    "version": 3
   },
   "file_extension": ".py",
   "mimetype": "text/x-python",
   "name": "python",
   "nbconvert_exporter": "python",
   "pygments_lexer": "ipython3",
   "version": "3.6.5"
  }
 },
 "nbformat": 4,
 "nbformat_minor": 2
}
