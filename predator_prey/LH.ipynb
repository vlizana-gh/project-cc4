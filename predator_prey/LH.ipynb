{
 "cells": [
  {
   "cell_type": "code",
   "execution_count": 1,
   "metadata": {},
   "outputs": [],
   "source": [
    "import numpy as np\n",
    "import matplotlib.pyplot as plt\n",
    "import ipywidgets as wi"
   ]
  },
  {
   "cell_type": "code",
   "execution_count": 2,
   "metadata": {},
   "outputs": [],
   "source": [
    "def kernel_mult(pop,jump,coef=None):\n",
    "    if coef is None:\n",
    "        coef = 1.0/(2*jump+1)/(2*jump+1)\n",
    "    if jump==0:\n",
    "        npop = pop.copy()\n",
    "        return coef*npop\n",
    "    # Create teselated pop\n",
    "    pop2 = np.zeros((pop.shape[0]+2*jump,pop.shape[1]+2*jump))\n",
    "    pop2[jump:-jump,jump:-jump] = pop\n",
    "    # Sides\n",
    "    pop2[:jump,jump:-jump] = pop[-jump:,:]\n",
    "    pop2[-jump:,jump:-jump] = pop[:jump,:]\n",
    "    pop2[jump:-jump,:jump] = pop[:,-jump:]\n",
    "    pop2[jump:-jump,-jump:] = pop[:,:jump]\n",
    "    # Corners\n",
    "    pop2[:jump,:jump] = pop[-jump:,-jump:]\n",
    "    pop2[-jump:,:jump] = pop[:jump,-jump:]\n",
    "    pop2[:jump,-jump:] = pop[-jump:,:jump]\n",
    "    pop2[-jump:,-jump:] = pop[:jump,:jump]\n",
    "    # Update pops:\n",
    "    npop = np.zeros(pop.shape)\n",
    "    for x in range(2*jump+1):\n",
    "        for y in range(2*jump+1):\n",
    "            npop += coef*pop2[x:x+pop.shape[0],y:y+pop.shape[1]]\n",
    "    return npop\n",
    "\n",
    "def update_model(ha,ly,\n",
    "            ha_breed=0.05,ly_effi=0.4,ly_dead=0.05,hunt_rate=0.01,mode='mult',\n",
    "            ha_jump=1,ly_jump=1):\n",
    "    ha = ha.copy()\n",
    "    ly = ly.copy()\n",
    "    # ly attack\n",
    "    if mode=='exp':\n",
    "        surv_frac = np.exp(-hunt_rate*ly[ha>0]/ha[ha>0])\n",
    "        hunts = np.zeros(ha.shape)\n",
    "        hunts[ha>0] = ha[ha>0]*(1.0-surv_frac)\n",
    "        ha -= hunts\n",
    "    elif mode=='mult':\n",
    "        hunts = ly*ha*hunt_rate\n",
    "        hunts[hunts>ha] = ha[hunts>ha]\n",
    "        ha -= hunts\n",
    "    # ly reproduce\n",
    "    ly += hunts*ly_effi\n",
    "    # ha reproduce\n",
    "    ha *= (1.0+ha_breed)\n",
    "    # ly die\n",
    "    ly *= (1.0-ly_dead)\n",
    "    # ha move\n",
    "    ha = kernel_mult(ha,ha_jump)\n",
    "    # ly move\n",
    "    ly = kernel_mult(ly,ly_jump)\n",
    "    #\n",
    "    return ha,ly,hunts"
   ]
  },
  {
   "cell_type": "code",
   "execution_count": 3,
   "metadata": {},
   "outputs": [
    {
     "data": {
      "application/vnd.jupyter.widget-view+json": {
       "model_id": "2db98b88cb96455487d1f014f2989c49",
       "version_major": 2,
       "version_minor": 0
      },
      "text/html": [
       "<p>Failed to display Jupyter Widget of type <code>interactive</code>.</p>\n",
       "<p>\n",
       "  If you're reading this message in the Jupyter Notebook or JupyterLab Notebook, it may mean\n",
       "  that the widgets JavaScript is still loading. If this message persists, it\n",
       "  likely means that the widgets JavaScript library is either not installed or\n",
       "  not enabled. See the <a href=\"https://ipywidgets.readthedocs.io/en/stable/user_install.html\">Jupyter\n",
       "  Widgets Documentation</a> for setup instructions.\n",
       "</p>\n",
       "<p>\n",
       "  If you're reading this message in another frontend (for example, a static\n",
       "  rendering on GitHub or <a href=\"https://nbviewer.jupyter.org/\">NBViewer</a>),\n",
       "  it may mean that your frontend doesn't currently support widgets.\n",
       "</p>\n"
      ],
      "text/plain": [
       "interactive(children=(IntSlider(value=0, continuous_update=False, description='t', max=3000), Output()), _dom_classes=('widget-interact',))"
      ]
     },
     "metadata": {},
     "output_type": "display_data"
    }
   ],
   "source": [
    "SIZE = 40\n",
    "INIHA = 400\n",
    "INILY = 50\n",
    "STEPS = 3000\n",
    "JUMP_DELAY = 20\n",
    "np.random.seed(42)\n",
    "pop = np.zeros((SIZE,SIZE))\n",
    "\n",
    "ha_pos = [np.random.random((SIZE,SIZE))*INIHA]\n",
    "ly_pos = [np.random.random((SIZE,SIZE))*INILY]\n",
    "ha_sum = [np.sum(ha_pos)]\n",
    "ly_sum = [np.sum(ly_pos)]\n",
    "hu_pos = [np.zeros(ha_pos[0].shape)]\n",
    "hu_sum = [0]\n",
    "\n",
    "for t in range(STEPS):\n",
    "    jump = ((t-1)%JUMP_DELAY)==0\n",
    "    ha,ly,hu = update_model(ha_pos[-1],ly_pos[-1],ha_jump=jump,ly_jump=jump)\n",
    "    ha_pos.append(ha)\n",
    "    ly_pos.append(ly)\n",
    "    hu_pos.append(hu)\n",
    "    ha_sum.append(np.sum(ha))\n",
    "    ly_sum.append(np.sum(ly))\n",
    "    hu_sum.append(np.sum(hu))\n",
    "\n",
    "def plot_time(t,show=False):\n",
    "    img = np.zeros((ha_pos[0].shape[0],ha_pos[0].shape[1],3))\n",
    "    img[:,:,2] = ha_pos[t]/(INIHA/2.0)\n",
    "    img[:,:,0] = ly_pos[t]/(INILY/2.0)\n",
    "    img[img>1.0] = 1.0\n",
    "    f, axarr = plt.subplots(1,2,figsize=(12,6))\n",
    "    axarr[0].set_title('Pops. ubication')\n",
    "    axarr[0].imshow(img)\n",
    "    axarr[1].set_title('Total pops')\n",
    "    axarr[1].plot(hu_sum,color=(0.4,0.4,0.0))\n",
    "    axarr[1].plot(ha_sum,color=(0.0,0.0,0.4))\n",
    "    axarr[1].plot(ly_sum,color=(0.4,0.0,0.0))\n",
    "    axarr[1].plot(hu_sum[:t+1],color=(0.1,0.1,0.0))\n",
    "    axarr[1].plot(ha_sum[:t+1],color=(0.0,0.0,1.0))\n",
    "    axarr[1].plot(ly_sum[:t+1],color=(1.0,0.0,0.0))\n",
    "    if show:\n",
    "        print(\"ha %f\"%ha_sum[t])\n",
    "        print(\"ly %f\"%ly_sum[t])\n",
    "        print(\"hu %f\"%hu_sum[t])\n",
    "        plt.show()\n",
    "        plt.close()\n",
    "\n",
    "t_slider = wi.IntSlider(min=0,max=len(ha_pos)-1,continuous_update=False)\n",
    "interactive_plot = wi.interact(lambda t: plot_time(t,show=True),t=t_slider)\n",
    "interactive_plot.widget.layout.height = '500px'\n",
    "interactive_plot;"
   ]
  },
  {
   "cell_type": "code",
   "execution_count": null,
   "metadata": {
    "scrolled": true
   },
   "outputs": [
    {
     "name": "stdout",
     "output_type": "stream",
     "text": [
      "0/3000\n",
      "100/3000\n",
      "200/3000\n",
      "300/3000\n",
      "400/3000\n",
      "500/3000\n",
      "600/3000\n",
      "700/3000\n",
      "800/3000\n",
      "900/3000\n",
      "1000/3000\n",
      "1100/3000\n",
      "1200/3000\n",
      "1300/3000\n",
      "1400/3000\n",
      "1500/3000\n",
      "1600/3000\n",
      "1700/3000\n",
      "1800/3000\n",
      "1900/3000\n",
      "2000/3000\n",
      "2100/3000\n",
      "2200/3000\n",
      "2300/3000\n",
      "2400/3000\n",
      "2500/3000\n",
      "2600/3000\n",
      "2700/3000\n",
      "2800/3000\n"
     ]
    }
   ],
   "source": [
    "for i in range(STEPS+1):\n",
    "    if i%100==0: print(\"%d/%d\"%(i,STEPS))\n",
    "    plot_time(i,show=False)\n",
    "    plt.savefig('imgs/img_%05d.png'%i)\n",
    "    plt.close()"
   ]
  },
  {
   "cell_type": "code",
   "execution_count": null,
   "metadata": {},
   "outputs": [],
   "source": []
  },
  {
   "cell_type": "code",
   "execution_count": null,
   "metadata": {},
   "outputs": [],
   "source": []
  }
 ],
 "metadata": {
  "kernelspec": {
   "display_name": "Python 3",
   "language": "python",
   "name": "python3"
  },
  "language_info": {
   "codemirror_mode": {
    "name": "ipython",
    "version": 3
   },
   "file_extension": ".py",
   "mimetype": "text/x-python",
   "name": "python",
   "nbconvert_exporter": "python",
   "pygments_lexer": "ipython3",
   "version": "3.6.5"
  }
 },
 "nbformat": 4,
 "nbformat_minor": 2
}
