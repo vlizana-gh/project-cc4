{
 "cells": [
  {
   "cell_type": "code",
   "execution_count": null,
   "metadata": {
    "scrolled": false
   },
   "outputs": [],
   "source": [
    "import numpy as np\n",
    "import noise\n",
    "\n",
    "from plotly import graph_objs as plgo\n",
    "from plotly import offline as ploff\n",
    "ploff.init_notebook_mode(connected=False)"
   ]
  },
  {
   "cell_type": "code",
   "execution_count": null,
   "metadata": {},
   "outputs": [],
   "source": [
    "base = np.linspace(0, 5, 500)\n",
    "x, y = np.meshgrid(base, base)\n",
    "final_func = np.vectorize(lambda x, y: noise.pnoise2(x, y, octaves=4))\n",
    "land = final_func(x, y)\n",
    "\n",
    "water = np.zeros(land.shape)\n",
    "water[240:261,240:261] = 0.5 - land[240:261,240:261]"
   ]
  },
  {
   "cell_type": "code",
   "execution_count": null,
   "metadata": {},
   "outputs": [],
   "source": [
    "def plot(x, y, land, water):\n",
    "    mask = ~water.astype(bool)\n",
    "    layer = land + water\n",
    "    layer[mask] = None\n",
    "    ploff.iplot(\n",
    "        plgo.Figure({\n",
    "            'data': [\n",
    "                plgo.Surface({\n",
    "                    'name': 'land',\n",
    "                    'x': x,\n",
    "                    'y': y,\n",
    "                    'z': land,\n",
    "                    'colorscale': [(0.0, '#F9EBEA'), (1.0, '#641E16')],\n",
    "                }),\n",
    "                plgo.Surface({\n",
    "                    'name': 'water',\n",
    "                    'x': x,\n",
    "                    'y': y,\n",
    "                    'z': layer,\n",
    "                    'colorscale': [(0.0, '#154360'), (1.0, '#85C1E9')],\n",
    "                    'showscale': False,\n",
    "                })\n",
    "            ],\n",
    "            'layout': plgo.Layout({\n",
    "                'title': 'Perlin Noise',\n",
    "                'width': 800,\n",
    "                'height': 800,\n",
    "                'scene': plgo.Scene({\n",
    "                    'zaxis': plgo.ZAxis({\n",
    "                        'range': [-1, 1.5]\n",
    "                    })\n",
    "                })\n",
    "            }),\n",
    "        })\n",
    "    )"
   ]
  },
  {
   "cell_type": "code",
   "execution_count": null,
   "metadata": {},
   "outputs": [],
   "source": [
    "def simple_automata_step(terra,water,alpha):\n",
    "    assert(terra.shape==water.shape)\n",
    "    levels = terra+water\n",
    "    # Get the level transfer:\n",
    "    transfer_x = levels[:,:-1]-levels[:,1:]\n",
    "    transfer_x = np.minimum(water[:,:-1],transfer_x)\n",
    "    transfer_x = np.maximum(-water[:,1:],transfer_x)\n",
    "    #\n",
    "    transfer_y = levels[:-1,:]-levels[1:,:]\n",
    "    transfer_y = np.minimum(water[:-1,:],transfer_y)\n",
    "    transfer_y = np.maximum(-water[1:,:],transfer_y)\n",
    "    # Update water levels:\n",
    "    nwater = water.copy()\n",
    "    nwater[:,:-1] -= transfer_x*alpha\n",
    "    nwater[:,1:]  += transfer_x*alpha\n",
    "    nwater[:-1,:] -= transfer_y*alpha\n",
    "    nwater[1:,:]  += transfer_y*alpha\n",
    "    return nwater"
   ]
  },
  {
   "cell_type": "code",
   "execution_count": null,
   "metadata": {},
   "outputs": [],
   "source": [
    "w = simple_automata_step(land, water, 0.1)"
   ]
  },
  {
   "cell_type": "code",
   "execution_count": null,
   "metadata": {},
   "outputs": [],
   "source": [
    "for i in range(100):\n",
    "    w = simple_automata_step(land, w, 0.1)"
   ]
  }
 ],
 "metadata": {
  "kernelspec": {
   "display_name": "Python 3",
   "language": "python",
   "name": "python3"
  },
  "language_info": {
   "codemirror_mode": {
    "name": "ipython",
    "version": 3
   },
   "file_extension": ".py",
   "mimetype": "text/x-python",
   "name": "python",
   "nbconvert_exporter": "python",
   "pygments_lexer": "ipython3",
   "version": "3.6.5"
  },
  "varInspector": {
   "cols": {
    "lenName": 16,
    "lenType": 16,
    "lenVar": 40
   },
   "kernels_config": {
    "python": {
     "delete_cmd_postfix": "",
     "delete_cmd_prefix": "del ",
     "library": "var_list.py",
     "varRefreshCmd": "print(var_dic_list())"
    },
    "r": {
     "delete_cmd_postfix": ") ",
     "delete_cmd_prefix": "rm(",
     "library": "var_list.r",
     "varRefreshCmd": "cat(var_dic_list()) "
    }
   },
   "types_to_exclude": [
    "module",
    "function",
    "builtin_function_or_method",
    "instance",
    "_Feature"
   ],
   "window_display": false
  }
 },
 "nbformat": 4,
 "nbformat_minor": 2
}
