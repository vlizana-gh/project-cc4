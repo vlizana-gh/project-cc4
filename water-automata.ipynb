{
 "cells": [
  {
   "cell_type": "code",
   "execution_count": null,
   "metadata": {},
   "outputs": [],
   "source": [
    "def log_progress(sequence, every=None, size=None, name='Items'):\n",
    "    is_iterator = False\n",
    "    if size is None:\n",
    "        try:\n",
    "            size = len(sequence)\n",
    "        except TypeError:\n",
    "            is_iterator = True\n",
    "    if size is not None:\n",
    "        if every is None:\n",
    "            if size <= 200:\n",
    "                every = 1\n",
    "            else:\n",
    "                every = int(size / 200)     # every 0.5%\n",
    "    else:\n",
    "        assert every is not None, 'sequence is iterator, set every'\n",
    "\n",
    "    if is_iterator:\n",
    "        progress = IntProgress(min=0, max=1, value=1)\n",
    "        progress.bar_style = 'info'\n",
    "    else:\n",
    "        progress = IntProgress(min=0, max=size, value=0)\n",
    "    label = HTML()\n",
    "    box = VBox(children=[label, progress])\n",
    "    display(box)\n",
    "\n",
    "    index = 0\n",
    "    try:\n",
    "        for index, record in enumerate(sequence, 1):\n",
    "            if index == 1 or index % every == 0:\n",
    "                if is_iterator:\n",
    "                    label.value = '{name}: {index} / ?'.format(\n",
    "                        name=name,\n",
    "                        index=index\n",
    "                    )\n",
    "                else:\n",
    "                    progress.value = index\n",
    "                    label.value = u'{name}: {index} / {size}'.format(\n",
    "                        name=name,\n",
    "                        index=index,\n",
    "                        size=size\n",
    "                    )\n",
    "            yield record\n",
    "    except:\n",
    "        progress.bar_style = 'danger'\n",
    "        raise\n",
    "    else:\n",
    "        progress.bar_style = 'success'\n",
    "        progress.value = index\n",
    "        label.value = \"{name}: {index}\".format(\n",
    "            name=name,\n",
    "            index=str(index or '?')\n",
    "        )"
   ]
  },
  {
   "cell_type": "code",
   "execution_count": null,
   "metadata": {
    "scrolled": false
   },
   "outputs": [],
   "source": [
    "import numpy as np\n",
    "import noise\n",
    "\n",
    "from matplotlib import pyplot as plt\n",
    "from matplotlib import colors as col\n",
    "\n",
    "from ipywidgets import IntProgress, HTML, VBox\n",
    "from IPython.display import display\n",
    "import ipywidgets as wdg\n",
    "\n",
    "from plotly import graph_objs as plgo\n",
    "from plotly import offline as ploff\n",
    "ploff.init_notebook_mode(connected=False)"
   ]
  },
  {
   "cell_type": "code",
   "execution_count": null,
   "metadata": {},
   "outputs": [],
   "source": [
    "base = np.linspace(0, 5, 100)\n",
    "x, y = np.meshgrid(base, base)\n",
    "final_func = np.vectorize(lambda x, y: noise.pnoise2(x, y, octaves=4))\n",
    "land = final_func(x, y)\n",
    "\n",
    "water = np.zeros(land.shape)\n",
    "water[45:56,45:56] = 0.5 - land[45:56,45:56]"
   ]
  },
  {
   "cell_type": "code",
   "execution_count": null,
   "metadata": {},
   "outputs": [],
   "source": [
    "def plot(x, y, land, water):\n",
    "#     mask = ~water.astype(bool)\n",
    "    mask = water < 0.0001\n",
    "    layer = land + water\n",
    "    layer[mask] = None\n",
    "    ploff.iplot(\n",
    "        plgo.Figure({\n",
    "            'data': [\n",
    "                plgo.Surface({\n",
    "                    'name': 'land',\n",
    "                    'x': x,\n",
    "                    'y': y,\n",
    "                    'z': land,\n",
    "                    'colorscale': [(0.0, '#F9EBEA'), (1.0, '#641E16')],\n",
    "                }),\n",
    "                plgo.Surface({\n",
    "                    'name': 'water',\n",
    "                    'x': x,\n",
    "                    'y': y,\n",
    "                    'z': layer,\n",
    "                    'colorscale': [(0.0, '#154360'), (1.0, '#85C1E9')],\n",
    "                    'showscale': False,\n",
    "                })\n",
    "            ],\n",
    "            'layout': plgo.Layout({\n",
    "                'title': 'Simulation',\n",
    "                'width': 800,\n",
    "                'height': 800,\n",
    "                'scene': plgo.Scene({\n",
    "                    'zaxis': plgo.ZAxis({\n",
    "                        'range': [-1, 1.5]\n",
    "                    })\n",
    "                })\n",
    "            }),\n",
    "        })\n",
    "    )"
   ]
  },
  {
   "cell_type": "code",
   "execution_count": null,
   "metadata": {},
   "outputs": [],
   "source": [
    "def upper_plot(land, water, Timestep):\n",
    "    mask = water[Timestep] < 0.0001\n",
    "    layer = land + water[Timestep]\n",
    "    layer[mask] = None\n",
    "    land_cm = col.LinearSegmentedColormap.from_list(\n",
    "        'land',\n",
    "        [(110/255, 44/255, 0), (246/255, 221/255, 204/255)][::-1]\n",
    "    )\n",
    "    water_cm = col.LinearSegmentedColormap.from_list(\n",
    "        'water',\n",
    "        [(27/255, 79/255, 144/255), (214/255, 234/255, 248/255)]\n",
    "    )\n",
    "    fig = plt.figure(figsize=(14,8))\n",
    "    ax = fig.add_subplot(111)\n",
    "    ax.imshow(land, cmap=land_cm, vmin=np.min(land), vmax=np.max(land))\n",
    "    ax.imshow(layer, cmap=water_cm, vmin=np.min(land), vmax=np.max(land))\n",
    "    plt.show()"
   ]
  },
  {
   "cell_type": "code",
   "execution_count": null,
   "metadata": {},
   "outputs": [],
   "source": [
    "def simple_automata_step(terra,water,alpha):\n",
    "    assert(terra.shape==water.shape)\n",
    "    levels = terra+water\n",
    "    # Get the level transfer:\n",
    "    transfer_x = levels[:,:-1]-levels[:,1:]\n",
    "    transfer_x = np.minimum(water[:,:-1],transfer_x)\n",
    "    transfer_x = np.maximum(-water[:,1:],transfer_x)\n",
    "    #\n",
    "    transfer_y = levels[:-1,:]-levels[1:,:]\n",
    "    transfer_y = np.minimum(water[:-1,:],transfer_y)\n",
    "    transfer_y = np.maximum(-water[1:,:],transfer_y)\n",
    "    # Update water levels:\n",
    "    nwater = water.copy()\n",
    "    nwater[:,:-1] -= transfer_x*alpha\n",
    "    nwater[:,1:]  += transfer_x*alpha\n",
    "    nwater[:-1,:] -= transfer_y*alpha\n",
    "    nwater[1:,:]  += transfer_y*alpha\n",
    "    return nwater"
   ]
  },
  {
   "cell_type": "code",
   "execution_count": null,
   "metadata": {},
   "outputs": [],
   "source": [
    "size = 1000\n",
    "alpha = 0.2\n",
    "\n",
    "w = np.zeros((size, *land.shape))\n",
    "w[0,:,:] = simple_automata_step(land, water, alpha)\n",
    "for i in log_progress(range(size-1), every=1, name='Timesteps'):\n",
    "    w[i+1,:,:] = simple_automata_step(land, w[i,:,:], alpha)"
   ]
  },
  {
   "cell_type": "code",
   "execution_count": null,
   "metadata": {},
   "outputs": [],
   "source": [
    "wdg.interact(upper_plot, Timestep=(0, size-1, 1), water=wdg.fixed(w), land=wdg.fixed(land))"
   ]
  },
  {
   "cell_type": "code",
   "execution_count": null,
   "metadata": {},
   "outputs": [],
   "source": []
  }
 ],
 "metadata": {
  "kernelspec": {
   "display_name": "Python 3",
   "language": "python",
   "name": "python3"
  },
  "language_info": {
   "codemirror_mode": {
    "name": "ipython",
    "version": 3
   },
   "file_extension": ".py",
   "mimetype": "text/x-python",
   "name": "python",
   "nbconvert_exporter": "python",
   "pygments_lexer": "ipython3",
   "version": "3.6.5"
  },
  "varInspector": {
   "cols": {
    "lenName": 16,
    "lenType": 16,
    "lenVar": 40
   },
   "kernels_config": {
    "python": {
     "delete_cmd_postfix": "",
     "delete_cmd_prefix": "del ",
     "library": "var_list.py",
     "varRefreshCmd": "print(var_dic_list())"
    },
    "r": {
     "delete_cmd_postfix": ") ",
     "delete_cmd_prefix": "rm(",
     "library": "var_list.r",
     "varRefreshCmd": "cat(var_dic_list()) "
    }
   },
   "types_to_exclude": [
    "module",
    "function",
    "builtin_function_or_method",
    "instance",
    "_Feature"
   ],
   "window_display": false
  }
 },
 "nbformat": 4,
 "nbformat_minor": 2
}
